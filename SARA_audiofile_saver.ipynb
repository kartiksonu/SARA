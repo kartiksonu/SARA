{
 "cells": [
  {
   "cell_type": "code",
   "execution_count": 37,
   "metadata": {},
   "outputs": [
    {
     "data": {
      "text/plain": [
       "0"
      ]
     },
     "execution_count": 37,
     "metadata": {},
     "output_type": "execute_result"
    }
   ],
   "source": [
    "import os\n",
    "import speech_recognition as sr\n",
    "import subprocess\n",
    "from gtts import gTTS\n",
    "import time\n",
    "from pydub import AudioSegment\n",
    "\n",
    "#dialogue_0\n",
    "intro_text = [\"Hi, I am SARA !\", \"a Semi Autonoumus Robot Assistant\", \"tell me\", \"Do you need a coffee?\" ]\n",
    "yes_response_1 = [\"ok\", \"I can help you with that, but I may need your assistance\", \"will you help me ?\" ]\n",
    "No_response_1  =  [ \"ok tell me if you ever need my help\"]  \n",
    "\n",
    "#dialogue_1\n",
    "yes_response_2 = [\"excellent\", \"Now, take my handle to move me\", \"and then say START\" ]\n",
    "No_response_2 = [\"Sorry but I still have to be equipped with an autonomous navigation function\"]\n",
    "\n",
    "\n",
    "#dialogue_2\n",
    "yes_response_3 = [\"I'm gonna start my navigation viewer now\", \"please wait for a while\",\n",
    "                  \"it will take some time to load the complete map\"]\n",
    "#5 secs break\n",
    "yes_response2_3 = [\"do you see a visualizer window with a map in it ?\"]\n",
    "No_response_3 = [\"ok wait i wll try to display again\"]\n",
    "\n",
    "#dialogue_3\n",
    "yes_response_4 = [\"that is great, we are almost done.\", \"just a few more steps\",\n",
    "                \"Now then\",  \"do u see a green path ?\"]\n",
    "No_response_4 = [\"looks like I need to restart my navigation module\", \"please give me a moment\"]\n",
    "\n",
    "#dialogue_4\n",
    "yes_response_5 = [\"Great\", \"Now all u have to do is\", \"to follow the green path\",\n",
    "                  \"and it will lead you to the caffeteria\" ]\n",
    "No_response_5 = [\"ok wait i wll try to display again\"]\n",
    "\n",
    "#dialogue_5\n",
    "yes_response_6 = [\" did you reach your destination ?\"]\n",
    "No_response_6 = [\" I see\", \"please continue \"]\n",
    "\n",
    "#dialogue_6\n",
    "yes_response_7 = [\"Enjoy your coffee\"]\n",
    "No_responsea_7 = []\n",
    "\n",
    "# n is the dialoogue number\n",
    "n = 1\n",
    "# part number  ....yes is part 1 and No is part 2\n",
    "p = 2\n",
    "text = No_response_1\n",
    "os. chdir(\"/home/sonu/audio_files_SARA\"+\"/dialogue_\" + str(n))\n",
    "\n",
    "\n",
    "for i in range (0, len(text)):\n",
    "    tts = gTTS(text[i])\n",
    "    tts.save('audio_'+ str(i) + '.mp3')\n",
    "\n",
    "sound_full = AudioSegment.from_mp3(\"audio_0.mp3\")\n",
    "for i in range (1, len(text)):\n",
    "    sound = AudioSegment.from_mp3(\"audio_\"+ str(i)+ \".mp3\")\n",
    "    sound_full += sound \n",
    "    print(type(sound))\n",
    "    \n",
    "sound_full.export(\"dialogue_\" + str(n) + \"_part\" + str(p) + \".mp3\", format=\"mp3\")\n",
    "\n",
    "\n",
    "#listen to the file to confirm \n",
    "path = \"mpg123\" + \" \" + \"dialogue_\" + str(n) + \"_part\" + str(p) + \".mp3\"\n",
    "os.system(path)\n",
    "\n"
   ]
  },
  {
   "cell_type": "code",
   "execution_count": null,
   "metadata": {},
   "outputs": [],
   "source": []
  }
 ],
 "metadata": {
  "kernelspec": {
   "display_name": "Python 3",
   "language": "python",
   "name": "python3"
  },
  "language_info": {
   "codemirror_mode": {
    "name": "ipython",
    "version": 3
   },
   "file_extension": ".py",
   "mimetype": "text/x-python",
   "name": "python",
   "nbconvert_exporter": "python",
   "pygments_lexer": "ipython3",
   "version": "3.5.2"
  }
 },
 "nbformat": 4,
 "nbformat_minor": 2
}
